{
 "cells": [
  {
   "cell_type": "markdown",
   "metadata": {},
   "source": [
    "# Pytorch Notebook"
   ]
  },
  {
   "cell_type": "markdown",
   "metadata": {},
   "source": [
    "## Basic Understanding"
   ]
  },
  {
   "cell_type": "code",
   "execution_count": 1,
   "metadata": {},
   "outputs": [],
   "source": [
    "from __future__ import print_function\n",
    "import sys\n",
    "import torch"
   ]
  },
  {
   "cell_type": "code",
   "execution_count": 8,
   "metadata": {},
   "outputs": [
    {
     "name": "stdout",
     "output_type": "stream",
     "text": [
      "3.9.13 (main, Oct 13 2022, 21:23:06) [MSC v.1916 64 bit (AMD64)]\n",
      "True\n",
      "11.3\n",
      "NVIDIA GeForce RTX 3070\n"
     ]
    }
   ],
   "source": [
    "# python version and GPU check\n",
    "\n",
    "print(sys.version)\n",
    "print(torch.cuda.is_available())\n",
    "print(torch.version.cuda)\n",
    "print(torch.cuda.get_device_name(0))"
   ]
  },
  {
   "cell_type": "code",
   "execution_count": 10,
   "metadata": {},
   "outputs": [
    {
     "name": "stdout",
     "output_type": "stream",
     "text": [
      "tensor([[0.0000e+00, 5.8434e-43, 7.7052e+31, 7.2148e+22, 1.5766e-19],\n",
      "        [1.0256e-08, 6.4456e-10, 3.1473e+12, 2.7096e-09, 4.3208e-05],\n",
      "        [6.6757e-07, 1.2681e+16, 2.1707e-18, 7.0952e+22, 1.7748e+28],\n",
      "        [1.8176e+31, 7.2708e+31, 5.0778e+31, 3.2608e-12, 1.7728e+28],\n",
      "        [7.0367e+22, 2.1715e-18, 2.1572e-04, 1.0267e-08, 5.2004e+22]])\n"
     ]
    }
   ],
   "source": [
    "# build 5x5 matrix without initiation\n",
    "x = torch.empty(5,5)\n",
    "print(x)"
   ]
  },
  {
   "cell_type": "code",
   "execution_count": 22,
   "metadata": {},
   "outputs": [
    {
     "name": "stdout",
     "output_type": "stream",
     "text": [
      "tensor([[0, 0, 0, 0, 0],\n",
      "        [0, 0, 0, 0, 0],\n",
      "        [0, 0, 0, 0, 0],\n",
      "        [0, 0, 0, 0, 0],\n",
      "        [0, 0, 0, 0, 0]])\n"
     ]
    }
   ],
   "source": [
    "# random initialized matrix\n",
    "x = torch.zeros(5,5, dtype=torch.long)\n",
    "print(x)"
   ]
  },
  {
   "cell_type": "code",
   "execution_count": 23,
   "metadata": {},
   "outputs": [],
   "source": [
    "x = torch.tensor([10, 5.5])"
   ]
  },
  {
   "cell_type": "code",
   "execution_count": 24,
   "metadata": {},
   "outputs": [
    {
     "name": "stdout",
     "output_type": "stream",
     "text": [
      "tensor([[1., 1., 1., 1., 1.],\n",
      "        [1., 1., 1., 1., 1.],\n",
      "        [1., 1., 1., 1., 1.],\n",
      "        [1., 1., 1., 1., 1.],\n",
      "        [1., 1., 1., 1., 1.]], dtype=torch.float64)\n"
     ]
    }
   ],
   "source": [
    "# build the tensor based on an exist tensor\n",
    "x = x.new_ones(5,5, dtype=torch.double)\n",
    "print(x)"
   ]
  },
  {
   "cell_type": "code",
   "execution_count": 25,
   "metadata": {},
   "outputs": [
    {
     "name": "stdout",
     "output_type": "stream",
     "text": [
      "tensor([[0.8145, 0.3139, 0.3493, 0.8403, 0.6630],\n",
      "        [0.9124, 0.3118, 0.2353, 0.1771, 0.7505],\n",
      "        [0.0289, 0.1948, 0.0110, 0.9484, 0.0377],\n",
      "        [0.8052, 0.2618, 0.9360, 0.7093, 0.8846],\n",
      "        [0.5737, 0.2802, 0.1402, 0.7590, 0.9565]])\n"
     ]
    }
   ],
   "source": [
    "y = torch.rand(5,5)\n",
    "print(y)"
   ]
  },
  {
   "cell_type": "code",
   "execution_count": 26,
   "metadata": {},
   "outputs": [
    {
     "name": "stdout",
     "output_type": "stream",
     "text": [
      "tensor([[1.8145, 1.3139, 1.3493, 1.8403, 1.6630],\n",
      "        [1.9124, 1.3118, 1.2353, 1.1771, 1.7505],\n",
      "        [1.0289, 1.1948, 1.0110, 1.9484, 1.0377],\n",
      "        [1.8052, 1.2618, 1.9360, 1.7093, 1.8846],\n",
      "        [1.5737, 1.2802, 1.1402, 1.7590, 1.9565]], dtype=torch.float64)\n"
     ]
    }
   ],
   "source": [
    "# tensor add\n",
    "print(x+y)"
   ]
  },
  {
   "cell_type": "code",
   "execution_count": 28,
   "metadata": {},
   "outputs": [
    {
     "data": {
      "text/plain": [
       "tensor([[1.8145, 1.3139, 1.3493, 1.8403, 1.6630],\n",
       "        [1.9124, 1.3118, 1.2353, 1.1771, 1.7505],\n",
       "        [1.0289, 1.1948, 1.0110, 1.9484, 1.0377],\n",
       "        [1.8052, 1.2618, 1.9360, 1.7093, 1.8846],\n",
       "        [1.5737, 1.2802, 1.1402, 1.7590, 1.9565]], dtype=torch.float64)"
      ]
     },
     "execution_count": 28,
     "metadata": {},
     "output_type": "execute_result"
    }
   ],
   "source": [
    "# method 2\n",
    "torch.add(x,y)"
   ]
  },
  {
   "cell_type": "code",
   "execution_count": 29,
   "metadata": {},
   "outputs": [
    {
     "name": "stdout",
     "output_type": "stream",
     "text": [
      "tensor([[1.8145, 1.3139, 1.3493, 1.8403, 1.6630],\n",
      "        [1.9124, 1.3118, 1.2353, 1.1771, 1.7505],\n",
      "        [1.0289, 1.1948, 1.0110, 1.9484, 1.0377],\n",
      "        [1.8052, 1.2618, 1.9360, 1.7093, 1.8846],\n",
      "        [1.5737, 1.2802, 1.1402, 1.7590, 1.9565]])\n"
     ]
    }
   ],
   "source": [
    "result = torch.empty(5,5)\n",
    "torch.add(x,y, out=result)\n",
    "print(result)"
   ]
  },
  {
   "cell_type": "code",
   "execution_count": 30,
   "metadata": {},
   "outputs": [
    {
     "data": {
      "text/plain": [
       "tensor([[1.8145, 1.3139, 1.3493, 1.8403, 1.6630],\n",
       "        [1.9124, 1.3118, 1.2353, 1.1771, 1.7505],\n",
       "        [1.0289, 1.1948, 1.0110, 1.9484, 1.0377],\n",
       "        [1.8052, 1.2618, 1.9360, 1.7093, 1.8846],\n",
       "        [1.5737, 1.2802, 1.1402, 1.7590, 1.9565]])"
      ]
     },
     "execution_count": 30,
     "metadata": {},
     "output_type": "execute_result"
    }
   ],
   "source": [
    "y.add_(x)"
   ]
  },
  {
   "cell_type": "code",
   "execution_count": 31,
   "metadata": {},
   "outputs": [
    {
     "name": "stdout",
     "output_type": "stream",
     "text": [
      "tensor([1.3139, 1.3118, 1.1948, 1.2618, 1.2802])\n"
     ]
    }
   ],
   "source": [
    "# indexing as numpy\n",
    "print(y[:,1])"
   ]
  },
  {
   "cell_type": "code",
   "execution_count": null,
   "metadata": {},
   "outputs": [],
   "source": [
    "# torch.autograd is Pytorch's automatic differentiation engine powering neural network training"
   ]
  }
 ],
 "metadata": {
  "kernelspec": {
   "display_name": "Python 3.9.13 ('pytorch')",
   "language": "python",
   "name": "python3"
  },
  "language_info": {
   "codemirror_mode": {
    "name": "ipython",
    "version": 3
   },
   "file_extension": ".py",
   "mimetype": "text/x-python",
   "name": "python",
   "nbconvert_exporter": "python",
   "pygments_lexer": "ipython3",
   "version": "3.9.13"
  },
  "orig_nbformat": 4,
  "vscode": {
   "interpreter": {
    "hash": "0747f93ff6db21b2db2bf35ad4858dd0825b9c21797c41b4cc32097944ab3f10"
   }
  }
 },
 "nbformat": 4,
 "nbformat_minor": 2
}
