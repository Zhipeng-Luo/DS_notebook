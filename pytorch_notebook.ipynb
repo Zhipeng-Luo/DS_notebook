{
 "cells": [
  {
   "cell_type": "markdown",
   "metadata": {},
   "source": [
    "# Pytorch Notebook"
   ]
  },
  {
   "cell_type": "markdown",
   "metadata": {},
   "source": [
    "## Basic Understanding"
   ]
  },
  {
   "cell_type": "code",
   "execution_count": 2,
   "metadata": {},
   "outputs": [],
   "source": [
    "from __future__ import print_function\n",
    "import sys\n",
    "import torch"
   ]
  },
  {
   "cell_type": "code",
   "execution_count": 3,
   "metadata": {},
   "outputs": [
    {
     "name": "stdout",
     "output_type": "stream",
     "text": [
      "3.9.13 (main, Oct 13 2022, 21:23:06) [MSC v.1916 64 bit (AMD64)]\n",
      "True\n",
      "11.3\n",
      "NVIDIA GeForce RTX 3070\n"
     ]
    }
   ],
   "source": [
    "# python version and GPU check\n",
    "\n",
    "print(sys.version)\n",
    "print(torch.cuda.is_available())\n",
    "print(torch.version.cuda)\n",
    "print(torch.cuda.get_device_name(0))"
   ]
  },
  {
   "cell_type": "code",
   "execution_count": 4,
   "metadata": {},
   "outputs": [
    {
     "name": "stdout",
     "output_type": "stream",
     "text": [
      "tensor([[0.0000e+00, 0.0000e+00, 0.0000e+00, 0.0000e+00, 0.0000e+00],\n",
      "        [6.7683e-43, 7.7052e+31, 7.2148e+22, 1.5766e-19, 1.0256e-08],\n",
      "        [6.4456e-10, 3.1645e+12, 4.3356e-08, 1.0491e-08, 2.6078e-09],\n",
      "        [1.2752e+16, 2.1707e-18, 7.0952e+22, 1.7748e+28, 1.8176e+31],\n",
      "        [7.2708e+31, 5.0778e+31, 3.2608e-12, 1.7728e+28, 7.0367e+22]])\n"
     ]
    }
   ],
   "source": [
    "# build 5x5 matrix without initiation\n",
    "x = torch.empty(5,5)\n",
    "print(x)"
   ]
  },
  {
   "cell_type": "code",
   "execution_count": 5,
   "metadata": {},
   "outputs": [
    {
     "name": "stdout",
     "output_type": "stream",
     "text": [
      "tensor([[0, 0, 0, 0, 0],\n",
      "        [0, 0, 0, 0, 0],\n",
      "        [0, 0, 0, 0, 0],\n",
      "        [0, 0, 0, 0, 0],\n",
      "        [0, 0, 0, 0, 0]])\n"
     ]
    }
   ],
   "source": [
    "# random initialized matrix\n",
    "x = torch.zeros(5,5, dtype=torch.long)\n",
    "print(x)"
   ]
  },
  {
   "cell_type": "code",
   "execution_count": 6,
   "metadata": {},
   "outputs": [],
   "source": [
    "x = torch.tensor([10, 5.5])"
   ]
  },
  {
   "cell_type": "code",
   "execution_count": 7,
   "metadata": {},
   "outputs": [
    {
     "name": "stdout",
     "output_type": "stream",
     "text": [
      "tensor([[1., 1., 1., 1., 1.],\n",
      "        [1., 1., 1., 1., 1.],\n",
      "        [1., 1., 1., 1., 1.],\n",
      "        [1., 1., 1., 1., 1.],\n",
      "        [1., 1., 1., 1., 1.]], dtype=torch.float64)\n"
     ]
    }
   ],
   "source": [
    "# build the tensor based on an exist tensor\n",
    "x = x.new_ones(5,5, dtype=torch.double)\n",
    "print(x)"
   ]
  },
  {
   "cell_type": "code",
   "execution_count": 8,
   "metadata": {},
   "outputs": [
    {
     "name": "stdout",
     "output_type": "stream",
     "text": [
      "tensor([[0.3380, 0.7775, 0.9529, 0.1039, 0.0705],\n",
      "        [0.1269, 0.9449, 0.6654, 0.9116, 0.5487],\n",
      "        [0.4390, 0.6981, 0.8072, 0.6257, 0.5051],\n",
      "        [0.2110, 0.2833, 0.5066, 0.8226, 0.2115],\n",
      "        [0.4999, 0.3134, 0.2275, 0.3996, 0.4496]])\n"
     ]
    }
   ],
   "source": [
    "y = torch.rand(5,5)\n",
    "print(y)"
   ]
  },
  {
   "cell_type": "code",
   "execution_count": 9,
   "metadata": {},
   "outputs": [
    {
     "name": "stdout",
     "output_type": "stream",
     "text": [
      "tensor([[1.3380, 1.7775, 1.9529, 1.1039, 1.0705],\n",
      "        [1.1269, 1.9449, 1.6654, 1.9116, 1.5487],\n",
      "        [1.4390, 1.6981, 1.8072, 1.6257, 1.5051],\n",
      "        [1.2110, 1.2833, 1.5066, 1.8226, 1.2115],\n",
      "        [1.4999, 1.3134, 1.2275, 1.3996, 1.4496]], dtype=torch.float64)\n"
     ]
    }
   ],
   "source": [
    "# tensor add\n",
    "print(x+y)"
   ]
  },
  {
   "cell_type": "code",
   "execution_count": 10,
   "metadata": {},
   "outputs": [
    {
     "data": {
      "text/plain": [
       "tensor([[1.3380, 1.7775, 1.9529, 1.1039, 1.0705],\n",
       "        [1.1269, 1.9449, 1.6654, 1.9116, 1.5487],\n",
       "        [1.4390, 1.6981, 1.8072, 1.6257, 1.5051],\n",
       "        [1.2110, 1.2833, 1.5066, 1.8226, 1.2115],\n",
       "        [1.4999, 1.3134, 1.2275, 1.3996, 1.4496]], dtype=torch.float64)"
      ]
     },
     "execution_count": 10,
     "metadata": {},
     "output_type": "execute_result"
    }
   ],
   "source": [
    "# method 2\n",
    "torch.add(x,y)"
   ]
  },
  {
   "cell_type": "code",
   "execution_count": 11,
   "metadata": {},
   "outputs": [
    {
     "name": "stdout",
     "output_type": "stream",
     "text": [
      "tensor([[1.3380, 1.7775, 1.9529, 1.1039, 1.0705],\n",
      "        [1.1269, 1.9449, 1.6654, 1.9116, 1.5487],\n",
      "        [1.4390, 1.6981, 1.8072, 1.6257, 1.5051],\n",
      "        [1.2110, 1.2833, 1.5066, 1.8226, 1.2115],\n",
      "        [1.4999, 1.3134, 1.2275, 1.3996, 1.4496]])\n"
     ]
    }
   ],
   "source": [
    "result = torch.empty(5,5)\n",
    "torch.add(x,y, out=result)\n",
    "print(result)"
   ]
  },
  {
   "cell_type": "code",
   "execution_count": 12,
   "metadata": {},
   "outputs": [
    {
     "data": {
      "text/plain": [
       "tensor([[1.3380, 1.7775, 1.9529, 1.1039, 1.0705],\n",
       "        [1.1269, 1.9449, 1.6654, 1.9116, 1.5487],\n",
       "        [1.4390, 1.6981, 1.8072, 1.6257, 1.5051],\n",
       "        [1.2110, 1.2833, 1.5066, 1.8226, 1.2115],\n",
       "        [1.4999, 1.3134, 1.2275, 1.3996, 1.4496]])"
      ]
     },
     "execution_count": 12,
     "metadata": {},
     "output_type": "execute_result"
    }
   ],
   "source": [
    "y.add_(x)"
   ]
  },
  {
   "cell_type": "code",
   "execution_count": 13,
   "metadata": {},
   "outputs": [
    {
     "name": "stdout",
     "output_type": "stream",
     "text": [
      "tensor([1.7775, 1.9449, 1.6981, 1.2833, 1.3134])\n"
     ]
    }
   ],
   "source": [
    "# indexing as numpy\n",
    "print(y[:,1])"
   ]
  },
  {
   "cell_type": "code",
   "execution_count": 14,
   "metadata": {},
   "outputs": [
    {
     "name": "stdout",
     "output_type": "stream",
     "text": [
      "tensor([[1., 1.],\n",
      "        [1., 1.]], requires_grad=True)\n"
     ]
    }
   ],
   "source": [
    "# torch.autograd is Pytorch's automatic differentiation engine powering neural network training\n",
    "\n",
    "x = torch.ones(2,2, requires_grad=True)\n",
    "print(x)"
   ]
  },
  {
   "cell_type": "code",
   "execution_count": 15,
   "metadata": {},
   "outputs": [
    {
     "name": "stdout",
     "output_type": "stream",
     "text": [
      "tensor([[3., 3.],\n",
      "        [3., 3.]], grad_fn=<AddBackward0>)\n"
     ]
    }
   ],
   "source": [
    "y = x +2\n",
    "print(y)"
   ]
  },
  {
   "cell_type": "code",
   "execution_count": 17,
   "metadata": {},
   "outputs": [
    {
     "name": "stdout",
     "output_type": "stream",
     "text": [
      "tensor([[27., 27.],\n",
      "        [27., 27.]], grad_fn=<MulBackward0>)\n",
      "tensor(27., grad_fn=<MeanBackward0>)\n"
     ]
    }
   ],
   "source": [
    "z = y*y*3\n",
    "out = z.mean()\n",
    "print(z)\n",
    "print(out)"
   ]
  },
  {
   "cell_type": "code",
   "execution_count": 18,
   "metadata": {},
   "outputs": [
    {
     "name": "stdout",
     "output_type": "stream",
     "text": [
      "False\n"
     ]
    }
   ],
   "source": [
    "a = torch.randn(2,2)\n",
    "a = ((a*3) / (a -1))\n",
    "print(a.requires_grad)"
   ]
  },
  {
   "cell_type": "code",
   "execution_count": 20,
   "metadata": {},
   "outputs": [
    {
     "name": "stdout",
     "output_type": "stream",
     "text": [
      "True\n",
      "tensor(4612.3477, grad_fn=<SumBackward0>)\n",
      "<SumBackward0 object at 0x000001E3854B52B0>\n"
     ]
    }
   ],
   "source": [
    "a.requires_grad_(True)\n",
    "print(a.requires_grad)\n",
    "b = (a * a).sum()\n",
    "print(b)\n",
    "print(b.grad_fn)"
   ]
  },
  {
   "cell_type": "code",
   "execution_count": 25,
   "metadata": {},
   "outputs": [
    {
     "name": "stdout",
     "output_type": "stream",
     "text": [
      "tensor(27., grad_fn=<MeanBackward0>)\n"
     ]
    }
   ],
   "source": [
    "print(out)"
   ]
  },
  {
   "cell_type": "code",
   "execution_count": 27,
   "metadata": {},
   "outputs": [
    {
     "name": "stdout",
     "output_type": "stream",
     "text": [
      "tensor([[4.5000, 4.5000],\n",
      "        [4.5000, 4.5000]])\n"
     ]
    }
   ],
   "source": [
    "print(x.grad)"
   ]
  },
  {
   "cell_type": "code",
   "execution_count": null,
   "metadata": {},
   "outputs": [],
   "source": []
  }
 ],
 "metadata": {
  "kernelspec": {
   "display_name": "Python 3.9.13 ('pytorch')",
   "language": "python",
   "name": "python3"
  },
  "language_info": {
   "codemirror_mode": {
    "name": "ipython",
    "version": 3
   },
   "file_extension": ".py",
   "mimetype": "text/x-python",
   "name": "python",
   "nbconvert_exporter": "python",
   "pygments_lexer": "ipython3",
   "version": "3.9.13"
  },
  "orig_nbformat": 4,
  "vscode": {
   "interpreter": {
    "hash": "0747f93ff6db21b2db2bf35ad4858dd0825b9c21797c41b4cc32097944ab3f10"
   }
  }
 },
 "nbformat": 4,
 "nbformat_minor": 2
}
